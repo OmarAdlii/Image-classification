{
 "cells": [
  {
   "cell_type": "code",
   "execution_count": null,
   "id": "6f9fd24e",
   "metadata": {},
   "outputs": [],
   "source": [
    "import numpy as np\n",
    "import cv2\n",
    "import matplotlib.pyplot as plt\n",
    "import os\n",
    "import shutil"
   ]
  },
  {
   "cell_type": "code",
   "execution_count": null,
   "id": "9b5801df",
   "metadata": {},
   "outputs": [],
   "source": [
    "import tensorflow as tf\n",
    "from tensorflow.keras.models import Sequential\n",
    "from tensorflow.keras.layers import Dense, Conv2D, MaxPooling2D, Flatten, Dropout\n",
    "from tensorflow.keras.metrics import Recall, Precision, BinaryAccuracy\n",
    "from tensorflow.keras.models import load_model"
   ]
  },
  {
   "cell_type": "code",
   "execution_count": null,
   "id": "4a92b144",
   "metadata": {},
   "outputs": [],
   "source": [
    "cats_dir=os.path.join('data','cats')\n",
    "dog_dir=os.path.join('data','dogs')\n",
    "os.makedirs(cats_dir)\n",
    "os.makedirs(dog_dir)"
   ]
  },
  {
   "cell_type": "code",
   "execution_count": null,
   "id": "c7b2d987",
   "metadata": {},
   "outputs": [],
   "source": [
    "all_images=os.path.join('data','train')\n",
    "for image in os.listdir(all_images):\n",
    "    if 'cat' in image:\n",
    "        shutil.move(os.path.join(all_images,image),\n",
    "                   os.path.join(cats_dir,image))\n",
    "    else:\n",
    "        shutil.move(os.path.join(all_images,image),\n",
    "                   os.path.join(dog_dir,image))"
   ]
  },
  {
   "cell_type": "code",
   "execution_count": null,
   "id": "f6e6c0f1",
   "metadata": {},
   "outputs": [],
   "source": [
    "data=tf.keras.utils.image_dataset_from_directory('data')"
   ]
  },
  {
   "cell_type": "code",
   "execution_count": null,
   "id": "4d2be3b2",
   "metadata": {
    "scrolled": true
   },
   "outputs": [],
   "source": [
    "x=data.as_numpy_iterator()\n"
   ]
  },
  {
   "cell_type": "code",
   "execution_count": null,
   "id": "02aa2b3e",
   "metadata": {},
   "outputs": [],
   "source": [
    "batch=x.next()\n",
    "plt.figure(figsize=(20,20))\n",
    "for i in range(1,5):\n",
    "    plt.subplot(1,4,i)\n",
    "    plt.axis('off')\n",
    "    img=batch[0][i]\n",
    "    plt.title(batch[1][i])\n",
    "    plt.imshow(img.astype(int))"
   ]
  },
  {
   "cell_type": "code",
   "execution_count": null,
   "id": "0beb16d9",
   "metadata": {},
   "outputs": [],
   "source": [
    "data=data.map(lambda x,y:(x/255,y))"
   ]
  },
  {
   "cell_type": "code",
   "execution_count": null,
   "id": "a3ec7729",
   "metadata": {},
   "outputs": [],
   "source": [
    "train_size=int(0.7*len(data))\n",
    "val_size=int(0.2*len(data))\n",
    "test_size=int(0.1*len(data))"
   ]
  },
  {
   "cell_type": "code",
   "execution_count": null,
   "id": "b19b2f0c",
   "metadata": {},
   "outputs": [],
   "source": [
    "train_size,val_size,test_size"
   ]
  },
  {
   "cell_type": "code",
   "execution_count": null,
   "id": "4bcf9702",
   "metadata": {},
   "outputs": [],
   "source": [
    "train=data.take(train_size)\n",
    "val=data.skip(train_size).take(val_size)\n",
    "test=data.skip(train_size+val_size)"
   ]
  },
  {
   "cell_type": "code",
   "execution_count": null,
   "id": "0d4f199f",
   "metadata": {},
   "outputs": [],
   "source": [
    "train.as_numpy_iterator().next()"
   ]
  },
  {
   "cell_type": "code",
   "execution_count": null,
   "id": "191f7350",
   "metadata": {},
   "outputs": [],
   "source": [
    "model=Sequential()\n",
    "model.add(Conv2D(16,(3,3),activation='relu',input_shape=(256,256,3)))\n",
    "model.add(MaxPooling2D())\n",
    "model.add(Conv2D(32,(3,3),activation='relu'))\n",
    "model.add(MaxPooling2D())\n",
    "model.add(Dropout(0.3))\n",
    "model.add(Conv2D(16,(3,3),activation='relu'))\n",
    "model.add(MaxPooling2D())\n",
    "model.add(Flatten())\n",
    "model.add(Dense(256,activation='relu'))\n",
    "model.add(Dense(1,activation='sigmoid'))\n",
    "model.summary()"
   ]
  },
  {
   "cell_type": "code",
   "execution_count": null,
   "id": "f6a436c4",
   "metadata": {},
   "outputs": [],
   "source": [
    "model.compile(optimizer='adam',loss=tf.losses.BinaryCrossentropy(),metrics='accuracy')"
   ]
  },
  {
   "cell_type": "code",
   "execution_count": null,
   "id": "e46c38ea",
   "metadata": {},
   "outputs": [],
   "source": [
    "logdir='logs'\n",
    "tensorboard_callback = tf.keras.callbacks.TensorBoard(log_dir=logdir)"
   ]
  },
  {
   "cell_type": "code",
   "execution_count": null,
   "id": "7fd75b45",
   "metadata": {},
   "outputs": [],
   "source": [
    "hist=model.fit(train,epochs=15,validation_data=val,callbacks=[tensorboard_callback])"
   ]
  },
  {
   "cell_type": "code",
   "execution_count": null,
   "id": "efdab067",
   "metadata": {
    "scrolled": true
   },
   "outputs": [],
   "source": [
    "%tensorboard --logdir "
   ]
  },
  {
   "cell_type": "code",
   "execution_count": null,
   "id": "4e413385",
   "metadata": {},
   "outputs": [],
   "source": [
    "plt.plot(hist.history['loss'], color='teal', label='loss')\n",
    "plt.plot(hist.history['val_loss'], color='orange', label='val_loss')\n",
    "plt.title('Loss', fontsize=20)\n",
    "plt.legend(loc=\"upper left\")\n",
    "plt.show()"
   ]
  },
  {
   "cell_type": "code",
   "execution_count": null,
   "id": "ed416099",
   "metadata": {},
   "outputs": [],
   "source": [
    "plt.plot(hist.history['accuracy'], color='teal', label='accuracy')\n",
    "plt.plot(hist.history['val_accuracy'], color='orange', label='val_accuracy')\n",
    "plt.title('Accuracy', fontsize=20)\n",
    "plt.legend(loc=\"upper left\")\n",
    "plt.show()"
   ]
  },
  {
   "cell_type": "code",
   "execution_count": null,
   "id": "831fa6fd",
   "metadata": {},
   "outputs": [],
   "source": [
    "precision=Precision()\n",
    "recall=Recall()\n",
    "accuracy=BinaryAccuracy()"
   ]
  },
  {
   "cell_type": "code",
   "execution_count": null,
   "id": "17278ddd",
   "metadata": {},
   "outputs": [],
   "source": [
    "for batch in test.as_numpy_iterator():\n",
    "    X,y=batch\n",
    "    yhat=model.predict(X)\n",
    "    precision.update_state(y,yhat)\n",
    "    recall.update_state(y,yhat)\n",
    "    accuracy.update_state(y,yhat)\n",
    "    \n",
    "print(f'Precision: {precision.result()}')\n",
    "print(f'Recall: {recall.result()}')\n",
    "print(f'Binary Accuracy: {accuracy.result()}')"
   ]
  },
  {
   "cell_type": "code",
   "execution_count": null,
   "id": "581678e7",
   "metadata": {},
   "outputs": [],
   "source": [
    "img=cv2.imread(r'test1\\3.jpg')\n",
    "img=cv2.cvtColor(img,cv2.COLOR_BGR2RGB)\n",
    "plt.imshow(img)"
   ]
  },
  {
   "cell_type": "code",
   "execution_count": null,
   "id": "cf282809",
   "metadata": {},
   "outputs": [],
   "source": [
    "img=tf.image.resize(img,(256,256))\n",
    "plt.imshow(img.numpy().astype(int))"
   ]
  },
  {
   "cell_type": "code",
   "execution_count": null,
   "id": "cbf45c9d",
   "metadata": {},
   "outputs": [],
   "source": [
    "labels=['cat','dog']\n",
    "yhat=model.predict(np.expand_dims(img/255,0))\n",
    "print(labels[int(yhat>0.5)])"
   ]
  },
  {
   "cell_type": "code",
   "execution_count": null,
   "id": "8691a936",
   "metadata": {},
   "outputs": [],
   "source": [
    "model.save('imageClassifier.h5')"
   ]
  },
  {
   "cell_type": "code",
   "execution_count": null,
   "id": "52ee1180",
   "metadata": {},
   "outputs": [],
   "source": [
    "new_model=load_model('imageClassifier.h5')"
   ]
  },
  {
   "cell_type": "code",
   "execution_count": null,
   "id": "a6538f30",
   "metadata": {},
   "outputs": [],
   "source": [
    "img=cv2.imread(r'test1\\500.jpg')\n",
    "img=cv2.cvtColor(img,cv2.COLOR_BGR2RGB)\n",
    "plt.imshow(img)"
   ]
  },
  {
   "cell_type": "code",
   "execution_count": null,
   "id": "cd405442",
   "metadata": {},
   "outputs": [],
   "source": [
    "lables=['cat','dog']\n",
    "img=tf.image.resize(img,(256,256))\n",
    "yhat=model.predict(np.expand_dims(img/255,0))\n",
    "print(labels[int(yhat>0.5)])"
   ]
  },
  {
   "cell_type": "code",
   "execution_count": null,
   "id": "bcab7913",
   "metadata": {},
   "outputs": [],
   "source": []
  }
 ],
 "metadata": {
  "kernelspec": {
   "display_name": "Python 3 (ipykernel)",
   "language": "python",
   "name": "python3"
  },
  "language_info": {
   "codemirror_mode": {
    "name": "ipython",
    "version": 3
   },
   "file_extension": ".py",
   "mimetype": "text/x-python",
   "name": "python",
   "nbconvert_exporter": "python",
   "pygments_lexer": "ipython3",
   "version": "3.9.13"
  }
 },
 "nbformat": 4,
 "nbformat_minor": 5
}
